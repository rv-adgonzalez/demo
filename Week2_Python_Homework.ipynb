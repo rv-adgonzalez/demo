{
  "nbformat": 4,
  "nbformat_minor": 0,
  "metadata": {
    "colab": {
      "provenance": [],
      "toc_visible": true
    },
    "kernelspec": {
      "name": "python3",
      "display_name": "Python 3"
    },
    "language_info": {
      "name": "python"
    }
  },
  "cells": [
    {
      "cell_type": "markdown",
      "source": [
        "# Assignment"
      ],
      "metadata": {
        "id": "5HXSlO5DUG5w"
      }
    },
    {
      "cell_type": "code",
      "execution_count": null,
      "metadata": {
        "colab": {
          "base_uri": "https://localhost:8080/"
        },
        "id": "RXjW8v_QLn-X",
        "outputId": "59f4b25e-6c24-479b-b2a9-f6846dadfa5f"
      },
      "outputs": [
        {
          "output_type": "stream",
          "name": "stdout",
          "text": [
            "<class 'int'>\n",
            "<class 'str'>\n"
          ]
        }
      ],
      "source": [
        "## Assign an int to a variable with name x and print its type.\n",
        "x = 4\n",
        "print(type(x))\n",
        "\n",
        "## Assign a new value with str type to the same variable x and print its type.\n",
        "x = 'four'\n",
        "print (type(x))"
      ]
    },
    {
      "cell_type": "code",
      "source": [
        "## Print the value of a variable that has not been defined, see what error do you get:\n",
        "print (type(y))"
      ],
      "metadata": {
        "colab": {
          "base_uri": "https://localhost:8080/",
          "height": 175
        },
        "id": "ziQX3nxkOIwe",
        "outputId": "70ae9927-0460-494c-805f-64079089ac97"
      },
      "execution_count": null,
      "outputs": [
        {
          "output_type": "error",
          "ename": "NameError",
          "evalue": "ignored",
          "traceback": [
            "\u001b[0;31m---------------------------------------------------------------------------\u001b[0m",
            "\u001b[0;31mNameError\u001b[0m                                 Traceback (most recent call last)",
            "\u001b[0;32m<ipython-input-5-8c72722a58ec>\u001b[0m in \u001b[0;36m<cell line: 1>\u001b[0;34m()\u001b[0m\n\u001b[0;32m----> 1\u001b[0;31m \u001b[0mprint\u001b[0m \u001b[0;34m(\u001b[0m\u001b[0mtype\u001b[0m\u001b[0;34m(\u001b[0m\u001b[0my\u001b[0m\u001b[0;34m)\u001b[0m\u001b[0;34m)\u001b[0m\u001b[0;34m\u001b[0m\u001b[0;34m\u001b[0m\u001b[0m\n\u001b[0m",
            "\u001b[0;31mNameError\u001b[0m: name 'y' is not defined"
          ]
        }
      ]
    },
    {
      "cell_type": "markdown",
      "source": [
        "# Operators and comparisons"
      ],
      "metadata": {
        "id": "hBOmXcYHUMKx"
      }
    },
    {
      "cell_type": "code",
      "source": [
        "## Print the sum, difference, multiplication, and division between 1 and 2.\n",
        "\n",
        "add = 1+2\n",
        "\n",
        "diff = 1-2\n",
        "\n",
        "mult = 1*2\n",
        "\n",
        "div = 1/2\n",
        "\n",
        "print (add,\",\" , diff,\",\", mult,\",\", div)"
      ],
      "metadata": {
        "colab": {
          "base_uri": "https://localhost:8080/"
        },
        "id": "rkUI4XzAOobr",
        "outputId": "dfbb1607-dec8-48e6-f5f0-6dff23650c28"
      },
      "execution_count": null,
      "outputs": [
        {
          "output_type": "stream",
          "name": "stdout",
          "text": [
            "3 , -1 , 2 , 0.5\n"
          ]
        }
      ]
    },
    {
      "cell_type": "code",
      "source": [
        "## Carry out Integer division of two float numbers.\n",
        "\n",
        "5.2/3.2"
      ],
      "metadata": {
        "colab": {
          "base_uri": "https://localhost:8080/"
        },
        "id": "XN2ic3QBPqlX",
        "outputId": "0aa350fa-f5c4-47e5-96c5-bf48f62215bf"
      },
      "execution_count": null,
      "outputs": [
        {
          "output_type": "execute_result",
          "data": {
            "text/plain": [
              "1.625"
            ]
          },
          "metadata": {},
          "execution_count": 19
        }
      ]
    },
    {
      "cell_type": "code",
      "source": [
        "## What is the value of 2 Power 15?\n",
        "2**15"
      ],
      "metadata": {
        "colab": {
          "base_uri": "https://localhost:8080/"
        },
        "id": "ew0QEH21P-vI",
        "outputId": "ac79b513-c108-46a1-8235-937205460412"
      },
      "execution_count": null,
      "outputs": [
        {
          "output_type": "execute_result",
          "data": {
            "text/plain": [
              "32768"
            ]
          },
          "metadata": {},
          "execution_count": 20
        }
      ]
    },
    {
      "cell_type": "code",
      "source": [
        "## Compare two boolean True and False\n",
        "\n",
        "True == False"
      ],
      "metadata": {
        "colab": {
          "base_uri": "https://localhost:8080/"
        },
        "id": "AIpWwJ7gQFro",
        "outputId": "362ec668-2299-46bd-a172-dd695714988c"
      },
      "execution_count": null,
      "outputs": [
        {
          "output_type": "execute_result",
          "data": {
            "text/plain": [
              "False"
            ]
          },
          "metadata": {},
          "execution_count": 1
        }
      ]
    },
    {
      "cell_type": "code",
      "source": [
        "## Use False to get True\n",
        "\n",
        "False or not False"
      ],
      "metadata": {
        "colab": {
          "base_uri": "https://localhost:8080/"
        },
        "id": "FjC4CSI4QZT-",
        "outputId": "7f9edd7e-4bcb-43e7-fbb2-b0dc0496efda"
      },
      "execution_count": null,
      "outputs": [
        {
          "output_type": "execute_result",
          "data": {
            "text/plain": [
              "True"
            ]
          },
          "metadata": {},
          "execution_count": 2
        }
      ]
    },
    {
      "cell_type": "code",
      "source": [
        "## Include both False and True in your code to get True\n",
        "\n",
        "False or True\n",
        "\n"
      ],
      "metadata": {
        "colab": {
          "base_uri": "https://localhost:8080/"
        },
        "id": "4QpS5qeiSAql",
        "outputId": "a92848d6-5d6b-43fb-9daf-9ac728948f72"
      },
      "execution_count": null,
      "outputs": [
        {
          "output_type": "execute_result",
          "data": {
            "text/plain": [
              "True"
            ]
          },
          "metadata": {},
          "execution_count": 5
        }
      ]
    },
    {
      "cell_type": "code",
      "source": [
        "## Use two different ways:\n",
        "\n",
        "## == to check if l1 and l2 have equal values\n",
        "## is to check if l1 and l2 point to the same object in memory\n",
        "\n",
        "l1 = [1, 2]\n",
        "l2 = [1, 2.0]\n",
        "\n",
        "11 == 12"
      ],
      "metadata": {
        "colab": {
          "base_uri": "https://localhost:8080/"
        },
        "id": "amLGTpgFS11b",
        "outputId": "2b547b23-c02a-40e6-e3da-d9095f9ddab0"
      },
      "execution_count": null,
      "outputs": [
        {
          "output_type": "stream",
          "name": "stdout",
          "text": [
            "11 12\n"
          ]
        },
        {
          "output_type": "execute_result",
          "data": {
            "text/plain": [
              "False"
            ]
          },
          "metadata": {},
          "execution_count": 41
        }
      ]
    },
    {
      "cell_type": "code",
      "source": [
        "l1 = [1, 2]\n",
        "l2 = [1, 2.0]\n",
        "\n",
        "if l1 is l2:\n",
        "    print(\"Yes\")\n",
        "else:\n",
        "    print(\"No\")"
      ],
      "metadata": {
        "colab": {
          "base_uri": "https://localhost:8080/"
        },
        "id": "iWhe8CIUTOl3",
        "outputId": "4a709297-92de-4fd6-a8f4-7d124eaf269f"
      },
      "execution_count": null,
      "outputs": [
        {
          "output_type": "stream",
          "name": "stdout",
          "text": [
            "No\n"
          ]
        }
      ]
    },
    {
      "cell_type": "markdown",
      "source": [
        "# Strings"
      ],
      "metadata": {
        "id": "t1_DQtThUQuo"
      }
    },
    {
      "cell_type": "code",
      "source": [
        "## Create three string variables, and use one print to display all three variables.\n",
        "\n",
        "x = 'Adriana'\n",
        "y = 'Beatriz'\n",
        "z = 'González'\n",
        "\n",
        "print (x,y,z)"
      ],
      "metadata": {
        "colab": {
          "base_uri": "https://localhost:8080/"
        },
        "id": "rKV83dBJlq6Z",
        "outputId": "830630dc-a7fb-46bc-ea3c-b9865c4dd2c4"
      },
      "execution_count": null,
      "outputs": [
        {
          "output_type": "stream",
          "name": "stdout",
          "text": [
            "Adriana Beatriz González\n"
          ]
        }
      ]
    },
    {
      "cell_type": "code",
      "source": [
        "## Check the length of \"Hello world!\".\n",
        "\n",
        "x = 'Hello world!'\n",
        "\n",
        "len (x)"
      ],
      "metadata": {
        "colab": {
          "base_uri": "https://localhost:8080/"
        },
        "id": "8ZXzBLp1l-VE",
        "outputId": "cac7753c-7140-4d69-ffdf-0e62d159617c"
      },
      "execution_count": null,
      "outputs": [
        {
          "output_type": "execute_result",
          "data": {
            "text/plain": [
              "12"
            ]
          },
          "metadata": {},
          "execution_count": 3
        }
      ]
    },
    {
      "cell_type": "code",
      "source": [
        "## Get the index 0 character in a string.\n",
        "\n",
        "x = 'Hello world!'\n",
        "\n",
        "first_position = x[0]\n",
        "\n",
        "print (first_position)\n",
        "\n"
      ],
      "metadata": {
        "colab": {
          "base_uri": "https://localhost:8080/"
        },
        "id": "DoZSNfrAmP0R",
        "outputId": "06fb866c-35f8-4733-dae0-d3269f03f81b"
      },
      "execution_count": null,
      "outputs": [
        {
          "output_type": "stream",
          "name": "stdout",
          "text": [
            "H\n"
          ]
        }
      ]
    },
    {
      "cell_type": "code",
      "source": [
        "##Get the first 3 characters in a string.\n",
        "\n",
        "x = 'Hello world!'\n",
        "\n",
        "first_three_positions = x[0:3]\n",
        "\n",
        "print (first_three_positions)"
      ],
      "metadata": {
        "colab": {
          "base_uri": "https://localhost:8080/"
        },
        "id": "NZO_DdpynWNu",
        "outputId": "36d56866-63ff-4c69-887a-9f7a23111dc0"
      },
      "execution_count": null,
      "outputs": [
        {
          "output_type": "stream",
          "name": "stdout",
          "text": [
            "Hel\n"
          ]
        }
      ]
    },
    {
      "cell_type": "code",
      "source": [
        "## Use a start index and a stop index to get the fifth character in a string.\n",
        "## s = Red Ventures\n",
        "\n",
        "s = \"Red Ventures\"\n",
        "fifth_character = s[4:5]\n",
        "\n",
        "print(fifth_character)\n",
        "\n"
      ],
      "metadata": {
        "colab": {
          "base_uri": "https://localhost:8080/"
        },
        "id": "-vhFxJ52nsmm",
        "outputId": "f016a4b9-a5bc-4613-89a3-4ace99906a6a"
      },
      "execution_count": null,
      "outputs": [
        {
          "output_type": "stream",
          "name": "stdout",
          "text": [
            "V\n"
          ]
        }
      ]
    },
    {
      "cell_type": "code",
      "source": [
        "## Get the last character in a string.\n",
        "\n",
        "s = \"Red Ventures\"\n",
        "\n",
        "last = s[-1]\n",
        "\n",
        "print (last)"
      ],
      "metadata": {
        "colab": {
          "base_uri": "https://localhost:8080/"
        },
        "id": "tDHpjrJQoChu",
        "outputId": "17391717-d4ba-4c38-ea41-16ec22836c2a"
      },
      "execution_count": null,
      "outputs": [
        {
          "output_type": "stream",
          "name": "stdout",
          "text": [
            "s\n"
          ]
        }
      ]
    },
    {
      "cell_type": "code",
      "source": [
        "## Print out the following strings:\n",
        "\n",
        "##'    Everything is written in pencil.'\n",
        "\n",
        "##'Everything is written\n",
        " ##in pencil.'\n",
        "\n",
        "##'Everything \\ is written \\ in pencil.'\n",
        "\n",
        "##'Red Ventures brands, just list a few:\n",
        "##   * Bankrate\n",
        "##   * Reviews.com\n",
        "##   * the Points Guy\n",
        "##   * creditcards.com'\n",
        "\n",
        "s = \"Everything is written in pencil\"\n",
        "\n",
        "print(\"\\t\" + s)"
      ],
      "metadata": {
        "colab": {
          "base_uri": "https://localhost:8080/"
        },
        "id": "i1qd6yuuo3EQ",
        "outputId": "8d375e4b-a16a-4ad3-e119-0e8753963a20"
      },
      "execution_count": null,
      "outputs": [
        {
          "output_type": "stream",
          "name": "stdout",
          "text": [
            "\tEverything is written in pencil\n"
          ]
        }
      ]
    },
    {
      "cell_type": "code",
      "source": [
        "s = \"Everything is written in pencil\"\n",
        "second_line =\"in \"\n",
        "\n",
        "new_s = s.replace(second_line, \"\\n\" + second_line)\n",
        "\n",
        "print (new_s)"
      ],
      "metadata": {
        "colab": {
          "base_uri": "https://localhost:8080/"
        },
        "id": "k8q2pqbYpdKm",
        "outputId": "ed411b18-e308-4fb5-c203-1ed9dc472e80"
      },
      "execution_count": null,
      "outputs": [
        {
          "output_type": "stream",
          "name": "stdout",
          "text": [
            "Everything is written \n",
            "in pencil\n"
          ]
        }
      ]
    },
    {
      "cell_type": "code",
      "source": [
        "s = \"Everything is written in pencil\"\n",
        "\n",
        "words = s.split()\n",
        "\n",
        "result = \" \\\\ \".join(words)\n",
        "\n",
        "print(result)"
      ],
      "metadata": {
        "colab": {
          "base_uri": "https://localhost:8080/"
        },
        "id": "c6Jz6n0freJP",
        "outputId": "4a7f3501-3cb2-4369-a66d-7f72a0b9af25"
      },
      "execution_count": null,
      "outputs": [
        {
          "output_type": "stream",
          "name": "stdout",
          "text": [
            "Everything \\ is \\ written \\ in \\ pencil\n"
          ]
        }
      ]
    },
    {
      "cell_type": "code",
      "source": [
        "names = [\"Bankrate\", \"Reviews.com\", \"the points guy\"]\n",
        "\n",
        "print (names)\n",
        "\n",
        "for name in names:\n",
        "  print (name)\n"
      ],
      "metadata": {
        "colab": {
          "base_uri": "https://localhost:8080/"
        },
        "id": "M8vl9JiIt_mL",
        "outputId": "20428f88-98bd-4fe6-b904-7ea012317927"
      },
      "execution_count": null,
      "outputs": [
        {
          "output_type": "stream",
          "name": "stdout",
          "text": [
            "['Bankrate', 'Reviews.com', 'the points guy']\n",
            "Bankrate\n",
            "Reviews.com\n",
            "the points guy\n"
          ]
        }
      ]
    },
    {
      "cell_type": "code",
      "source": [
        "## Convert all letters to lower cases.\n",
        "\n",
        "s = 'RED FISH'\n",
        "\n",
        "print (s.lower())"
      ],
      "metadata": {
        "colab": {
          "base_uri": "https://localhost:8080/"
        },
        "id": "kYIOqgFbu4ji",
        "outputId": "da418e8a-b244-4ece-dcfb-f79de43e7f22"
      },
      "execution_count": null,
      "outputs": [
        {
          "output_type": "stream",
          "name": "stdout",
          "text": [
            "red fish\n"
          ]
        }
      ]
    },
    {
      "cell_type": "code",
      "source": [
        "## Check if string starts with r\n",
        "\n",
        "s = 'Run Up Escalators'\n",
        "\n",
        "s[0] == 'r'"
      ],
      "metadata": {
        "colab": {
          "base_uri": "https://localhost:8080/"
        },
        "id": "smyqe6MNvkH5",
        "outputId": "2d056dcd-4764-476e-d261-4550ed5994b7"
      },
      "execution_count": null,
      "outputs": [
        {
          "output_type": "execute_result",
          "data": {
            "text/plain": [
              "False"
            ]
          },
          "metadata": {},
          "execution_count": 8
        }
      ]
    },
    {
      "cell_type": "code",
      "source": [
        "## Find the index of the single quote.\n",
        "s = \"You don't have to lie.\"\n",
        "index = s.index(\"'\")\n",
        "\n",
        "print(index)"
      ],
      "metadata": {
        "colab": {
          "base_uri": "https://localhost:8080/"
        },
        "id": "hZyVjm5_x-rs",
        "outputId": "7d7cef1e-0c26-4e57-e8a4-227af87185d8"
      },
      "execution_count": null,
      "outputs": [
        {
          "output_type": "stream",
          "name": "stdout",
          "text": [
            "7\n"
          ]
        }
      ]
    },
    {
      "cell_type": "markdown",
      "source": [
        "# Type Casting"
      ],
      "metadata": {
        "id": "8bT9aX1zUeU3"
      }
    },
    {
      "cell_type": "code",
      "source": [
        "## Cast variable z to int and print its type.\n",
        "\n",
        "z = 4\n",
        "z = int(z)\n",
        "\n",
        "print (type(z))"
      ],
      "metadata": {
        "colab": {
          "base_uri": "https://localhost:8080/"
        },
        "id": "thYJBA2hyZ0Z",
        "outputId": "4dd1c12d-c690-4753-aa25-2917ba1c3d16"
      },
      "execution_count": null,
      "outputs": [
        {
          "output_type": "stream",
          "name": "stdout",
          "text": [
            "<class 'int'>\n"
          ]
        }
      ]
    },
    {
      "cell_type": "code",
      "source": [
        "## Are the types of 1 + 2 and 1.0 + 2 the same?\n",
        "\n",
        "x = 1+2\n",
        "y = 1.0 +2\n",
        "\n",
        "print (type(x),type(y))\n",
        "type (x) == type (y)"
      ],
      "metadata": {
        "colab": {
          "base_uri": "https://localhost:8080/"
        },
        "id": "F_6hSiyayox4",
        "outputId": "14d401e9-3f8a-46cb-f534-3a5f4c3819ab"
      },
      "execution_count": null,
      "outputs": [
        {
          "output_type": "stream",
          "name": "stdout",
          "text": [
            "<class 'int'> <class 'float'>\n"
          ]
        },
        {
          "output_type": "execute_result",
          "data": {
            "text/plain": [
              "False"
            ]
          },
          "metadata": {},
          "execution_count": 62
        }
      ]
    },
    {
      "cell_type": "code",
      "source": [
        "## Add num_int and num_str, you should provide two outputs. One is a string and the other is an int.\n",
        "\n",
        "num_int = 4\n",
        "\n",
        "num_str = \"Adri\"\n",
        "\n",
        "print (num_int, num_str )"
      ],
      "metadata": {
        "colab": {
          "base_uri": "https://localhost:8080/"
        },
        "id": "9NJ-IGr4zDD6",
        "outputId": "94c48438-c744-42f7-8208-e9937f36ffeb"
      },
      "execution_count": null,
      "outputs": [
        {
          "output_type": "stream",
          "name": "stdout",
          "text": [
            "4 Adri\n"
          ]
        }
      ]
    },
    {
      "cell_type": "code",
      "source": [
        "## What happens if you cast -1 to a boolean?\n",
        "\n",
        "x=4\n",
        "\n",
        "boolean_value = bool (x)\n",
        "\n",
        "print (boolean_value)"
      ],
      "metadata": {
        "colab": {
          "base_uri": "https://localhost:8080/"
        },
        "id": "bzXzmj9DzghZ",
        "outputId": "a2db3e1e-e404-4377-9dd8-7b35b6d6f777"
      },
      "execution_count": null,
      "outputs": [
        {
          "output_type": "stream",
          "name": "stdout",
          "text": [
            "True\n"
          ]
        }
      ]
    },
    {
      "cell_type": "markdown",
      "source": [
        "# Standard Library"
      ],
      "metadata": {
        "id": "6S6F9lS_-s4v"
      }
    },
    {
      "cell_type": "code",
      "source": [
        "## Import math module and calculate e^4\n",
        "\n",
        "import math\n",
        "\n",
        "result = math.exp(4)\n",
        "\n",
        "print(result)"
      ],
      "metadata": {
        "colab": {
          "base_uri": "https://localhost:8080/"
        },
        "id": "-roVQn05-zMG",
        "outputId": "a2562ad1-b541-44c4-f53a-d73f5cea28cc"
      },
      "execution_count": null,
      "outputs": [
        {
          "output_type": "stream",
          "name": "stdout",
          "text": [
            "54.598150033144236\n"
          ]
        }
      ]
    },
    {
      "cell_type": "code",
      "source": [
        "## Calculate the value of log2(8)\n",
        "\n",
        "import math\n",
        "\n",
        "result = math.log2(8)\n",
        "\n",
        "print(result)"
      ],
      "metadata": {
        "colab": {
          "base_uri": "https://localhost:8080/"
        },
        "id": "z1cy6kNj_hBK",
        "outputId": "e69fd5e3-299a-4a7d-8d4f-23c728318e60"
      },
      "execution_count": null,
      "outputs": [
        {
          "output_type": "stream",
          "name": "stdout",
          "text": [
            "3.0\n"
          ]
        }
      ]
    },
    {
      "cell_type": "code",
      "source": [
        "## Calculate the value of sqr 100\n",
        "\n",
        "import math\n",
        "\n",
        "result = math.sqrt(100)\n",
        "\n",
        "print(result)"
      ],
      "metadata": {
        "colab": {
          "base_uri": "https://localhost:8080/"
        },
        "id": "55ME4aTT_1FD",
        "outputId": "8a49590f-1635-462f-9dc7-7501dac9fd6d"
      },
      "execution_count": null,
      "outputs": [
        {
          "output_type": "stream",
          "name": "stdout",
          "text": [
            "10.0\n"
          ]
        }
      ]
    },
    {
      "cell_type": "markdown",
      "source": [
        "# List"
      ],
      "metadata": {
        "id": "7zXl9tXTACai"
      }
    },
    {
      "cell_type": "code",
      "source": [
        "# TODO\n",
        "# Let's create an empty list\n",
        "my_list = []\n",
        "\n",
        "# Let's add some values\n",
        "my_list.append('Python')\n",
        "my_list.append('is ok')\n",
        "my_list.append('sometimes')\n",
        "\n",
        "# Let's remove 'sometimes'\n",
        "my_list.remove('sometimes')\n",
        "\n",
        "# Let's change the second item\n",
        "my_list[1] = 'is neat'\n",
        "\n",
        "# Let's verify that it's correct\n",
        "assert my_list == ['Python', 'is neat']\n",
        "\n",
        "print(my_list)"
      ],
      "metadata": {
        "colab": {
          "base_uri": "https://localhost:8080/"
        },
        "id": "XqQC0DVXADLV",
        "outputId": "3bbff7d1-c3b2-4922-e6ac-e53442d8388d"
      },
      "execution_count": null,
      "outputs": [
        {
          "output_type": "stream",
          "name": "stdout",
          "text": [
            "['Python', 'is neat']\n"
          ]
        }
      ]
    },
    {
      "cell_type": "code",
      "source": [
        "##  Create a new list without modifying the original one\n",
        "original = ['I', 'am', 'learning', 'hacking', 'in']\n",
        "\n",
        "modified = ['I', 'am', 'learning', 'lists', 'in', 'Python']\n",
        "\n",
        "assert original == ['I', 'am', 'learning', 'hacking', 'in']\n",
        "assert modified == ['I', 'am', 'learning', 'lists', 'in', 'Python']\n",
        "\n",
        "print (original, modified)"
      ],
      "metadata": {
        "colab": {
          "base_uri": "https://localhost:8080/"
        },
        "id": "TXEK2QU5BuXr",
        "outputId": "38934a8f-fd30-4af6-d474-3abd5835056e"
      },
      "execution_count": null,
      "outputs": [
        {
          "output_type": "stream",
          "name": "stdout",
          "text": [
            "['I', 'am', 'learning', 'hacking', 'in'] ['I', 'am', 'learning', 'lists', 'in', 'Python']\n"
          ]
        }
      ]
    },
    {
      "cell_type": "code",
      "source": [
        "## Create a merged sorted list (descending order)\n",
        "\n",
        "list1 = [6, 12, 5]\n",
        "list2 = [6.2, 0, 14, 1]\n",
        "list3 = [0.9]\n",
        "\n",
        "my_list = sorted(list1 + list2 + list3, reverse=True)\n",
        "\n",
        "print(my_list)\n",
        "assert my_list == [14, 12, 6.2, 6, 5, 1, 0.9, 0]"
      ],
      "metadata": {
        "colab": {
          "base_uri": "https://localhost:8080/"
        },
        "id": "8jjv1Rw2CPTq",
        "outputId": "8a7659aa-57b0-4a4c-e88c-cf41ebd5cbf3"
      },
      "execution_count": null,
      "outputs": [
        {
          "output_type": "stream",
          "name": "stdout",
          "text": [
            "[14, 12, 6.2, 6, 5, 1, 0.9, 0]\n"
          ]
        }
      ]
    },
    {
      "cell_type": "code",
      "source": [
        "## Loop through a list\n",
        "\n",
        "## If an item is a float, cast the float to int.\n",
        "## If an item is an int, cast the int to float\n",
        "## Hint: use isinstance()\n",
        "\n",
        "loop_list1 = [1101, 704.971, 'Fort Mill']\n",
        "\n",
        "## for loop\n",
        "\n",
        "for x in loop_list1:\n",
        "  if isinstance(x,float):\n",
        "    float_num = x\n",
        "    print (x)\n",
        "int_num = int(float_num)\n",
        "print(int_num)"
      ],
      "metadata": {
        "colab": {
          "base_uri": "https://localhost:8080/"
        },
        "id": "X9QmH572C935",
        "outputId": "5a9ad003-5765-4360-8b1a-4e373884dad3"
      },
      "execution_count": null,
      "outputs": [
        {
          "output_type": "stream",
          "name": "stdout",
          "text": [
            "704.971\n",
            "704\n"
          ]
        }
      ]
    },
    {
      "cell_type": "markdown",
      "source": [
        "# Tuples"
      ],
      "metadata": {
        "id": "UrA86C59_e7d"
      }
    },
    {
      "cell_type": "code",
      "source": [
        "## Fill the ___ parts of code below\n",
        "\n",
        "# create a tuple with items of different data types\n",
        "my_tuple =[\"Adriana\", 26, 5.0]\n",
        "print(my_tuple, type(my_tuple))"
      ],
      "metadata": {
        "colab": {
          "base_uri": "https://localhost:8080/"
        },
        "id": "FdT5ZxoM_g8m",
        "outputId": "1f3fa88a-39ef-4d77-9101-48076138032f"
      },
      "execution_count": 1,
      "outputs": [
        {
          "output_type": "stream",
          "name": "stdout",
          "text": [
            "['Adriana', 26, 5.0] <class 'list'>\n"
          ]
        }
      ]
    },
    {
      "cell_type": "code",
      "source": [
        "# Unpack my_tuple in several variables\n",
        "(green,yellow,red)= my_tuple\n",
        "\n",
        "print(green)\n",
        "print(yellow)\n",
        "print(red)"
      ],
      "metadata": {
        "id": "vVSw5yu-Bm0A",
        "colab": {
          "base_uri": "https://localhost:8080/"
        },
        "outputId": "3b812258-be2c-4e40-e8f9-704d4727563d"
      },
      "execution_count": 3,
      "outputs": [
        {
          "output_type": "stream",
          "name": "stdout",
          "text": [
            "Adriana\n",
            "26\n",
            "5.0\n"
          ]
        }
      ]
    },
    {
      "cell_type": "code",
      "source": [
        "# convert my_tuple to list and assign to variable my_list\n",
        "my_list = list(my_tuple)\n",
        "print(my_list, type(my_list))\n",
        "\n"
      ],
      "metadata": {
        "colab": {
          "base_uri": "https://localhost:8080/"
        },
        "id": "dSc2Y8PR9f3D",
        "outputId": "dc8b3f3f-2d45-4ce4-8b3f-5a494a18ff36"
      },
      "execution_count": 4,
      "outputs": [
        {
          "output_type": "stream",
          "name": "stdout",
          "text": [
            "['Adriana', 26, 5.0] <class 'list'>\n"
          ]
        }
      ]
    },
    {
      "cell_type": "code",
      "source": [
        "# convert my_list to tuple and assign to variable my_new_tuple\n",
        "my_new_tuple = tuple(my_list)\n",
        "print(my_new_tuple, type(my_new_tuple))"
      ],
      "metadata": {
        "colab": {
          "base_uri": "https://localhost:8080/"
        },
        "id": "QrK_5JrM9hDX",
        "outputId": "29358be3-904a-43f9-89a3-1957a10bbe91"
      },
      "execution_count": 5,
      "outputs": [
        {
          "output_type": "stream",
          "name": "stdout",
          "text": [
            "('Adriana', 26, 5.0) <class 'tuple'>\n"
          ]
        }
      ]
    },
    {
      "cell_type": "code",
      "source": [
        "# TODO\n",
        "rv_tuple = 1101, 'Red', 'Ventures', 'Drive'\n",
        "print(rv_tuple, type(rv_tuple))\n"
      ],
      "metadata": {
        "colab": {
          "base_uri": "https://localhost:8080/"
        },
        "id": "qq2oBoSE-y4o",
        "outputId": "1d121684-d55f-46d1-bfaa-616ea82a89e0"
      },
      "execution_count": 6,
      "outputs": [
        {
          "output_type": "stream",
          "name": "stdout",
          "text": [
            "(1101, 'Red', 'Ventures', 'Drive') <class 'tuple'>\n"
          ]
        }
      ]
    },
    {
      "cell_type": "code",
      "source": [
        "# check id\n",
        "print(id(rv_tuple))"
      ],
      "metadata": {
        "colab": {
          "base_uri": "https://localhost:8080/"
        },
        "id": "l2dCk4Em_G5Y",
        "outputId": "57e4f812-a205-4eca-f9e7-775ac84405ec"
      },
      "execution_count": 7,
      "outputs": [
        {
          "output_type": "stream",
          "name": "stdout",
          "text": [
            "133189233554944\n"
          ]
        }
      ]
    },
    {
      "cell_type": "code",
      "source": [
        "# modify the variable\n",
        "rv_tuple = rv_tuple + (29707, )\n",
        "print(rv_tuple, type(rv_tuple))"
      ],
      "metadata": {
        "colab": {
          "base_uri": "https://localhost:8080/"
        },
        "id": "7uTYhMxy_RLx",
        "outputId": "e6e33b79-2f45-45a1-d3e4-d75ba68694e2"
      },
      "execution_count": 8,
      "outputs": [
        {
          "output_type": "stream",
          "name": "stdout",
          "text": [
            "(1101, 'Red', 'Ventures', 'Drive', 29707) <class 'tuple'>\n"
          ]
        }
      ]
    },
    {
      "cell_type": "code",
      "source": [
        "# check id\n",
        "print(id(rv_tuple))"
      ],
      "metadata": {
        "colab": {
          "base_uri": "https://localhost:8080/"
        },
        "id": "5Zl_V_IK_V0s",
        "outputId": "6ddc5870-20b4-40e9-809e-8b30ea2dad94"
      },
      "execution_count": 9,
      "outputs": [
        {
          "output_type": "stream",
          "name": "stdout",
          "text": [
            "133189584156240\n"
          ]
        }
      ]
    },
    {
      "cell_type": "code",
      "source": [
        "## same exercise as a list\n",
        "\n",
        "rv_list = [1101, 'Red', 'Ventures', 'Drive']\n",
        "print(rv_list, type(rv_list))\n",
        "print(id(rv_list))"
      ],
      "metadata": {
        "colab": {
          "base_uri": "https://localhost:8080/"
        },
        "id": "t8ttrXcr_a-P",
        "outputId": "04dbed3e-8830-41bf-fde1-1de2dfabc1b8"
      },
      "execution_count": 12,
      "outputs": [
        {
          "output_type": "stream",
          "name": "stdout",
          "text": [
            "[1101, 'Red', 'Ventures', 'Drive'] <class 'list'>\n",
            "133189234140352\n"
          ]
        }
      ]
    },
    {
      "cell_type": "code",
      "source": [
        "## modifying the variable\n",
        "rv_list = rv_list + [5546,]\n",
        "print(rv_list, type(rv_list))\n",
        "print(id(rv_list))"
      ],
      "metadata": {
        "colab": {
          "base_uri": "https://localhost:8080/"
        },
        "id": "G1odpUiT_ttq",
        "outputId": "f375cce8-c732-4b8f-ed5c-ba02a7c8cb7f"
      },
      "execution_count": 14,
      "outputs": [
        {
          "output_type": "stream",
          "name": "stdout",
          "text": [
            "[1101, 'Red', 'Ventures', 'Drive', 5546, 5546] <class 'list'>\n",
            "133189584466112\n"
          ]
        }
      ]
    },
    {
      "cell_type": "markdown",
      "source": [
        "# Define Functions"
      ],
      "metadata": {
        "id": "1D5khvfFAZi7"
      }
    },
    {
      "cell_type": "code",
      "source": [
        "# TODO\n",
        "def check_case(x):\n",
        "  uppercase_number = 0\n",
        "  lowercase_number = 0\n",
        "  for y in x:\n",
        "      if y.isupper():\n",
        "          uppercase_number += 1\n",
        "      else:\n",
        "          lowercase_number += 1\n",
        "      ##return uppercase_number, lowercase_number\n",
        "  print ('No. of upper case letters', uppercase_number)\n",
        "  print ('No. of lower case letters', lowercase_number)\n",
        "\n",
        "x = 'This is Week3 Python Programming Homework.'\n",
        "check_case(x)\n"
      ],
      "metadata": {
        "colab": {
          "base_uri": "https://localhost:8080/"
        },
        "id": "cmFYfunVAamb",
        "outputId": "26a0c99e-5fe6-47d3-da70-eebe16b23438"
      },
      "execution_count": 41,
      "outputs": [
        {
          "output_type": "stream",
          "name": "stdout",
          "text": [
            "No. of upper case letters 5\n",
            "No. of lower case letters 37\n"
          ]
        }
      ]
    },
    {
      "cell_type": "markdown",
      "source": [
        "# Dictionary"
      ],
      "metadata": {
        "id": "GGWOJopmIRqO"
      }
    },
    {
      "cell_type": "code",
      "source": [
        "## Fill the parts of the code below\n",
        "\n",
        "# TODO\n",
        "# create an empty dictionary\n",
        "my_dict = {}\n",
        "print(my_dict, type(my_dict))\n",
        "\n",
        "\n"
      ],
      "metadata": {
        "colab": {
          "base_uri": "https://localhost:8080/"
        },
        "id": "dqaQ2UCQIUF3",
        "outputId": "0b274443-598f-4bb0-c0a5-c71b7031c34d"
      },
      "execution_count": 44,
      "outputs": [
        {
          "output_type": "stream",
          "name": "stdout",
          "text": [
            "{} <class 'dict'>\n"
          ]
        }
      ]
    },
    {
      "cell_type": "code",
      "source": [
        "# create a dictionary with values\n",
        "my_dict = {'x1':\"Adriana\",'x2':\"Gonzalez\"}\n",
        "print(my_dict, type(my_dict))\n",
        "my_dict ['x3'] =\"Montanez\"\n",
        "print(my_dict)\n",
        "my_dict.pop(\"x3\")\n",
        "print(my_dict)\n",
        "\n"
      ],
      "metadata": {
        "colab": {
          "base_uri": "https://localhost:8080/"
        },
        "id": "YojEJIpXJOn9",
        "outputId": "6b5d8915-1b1c-49cb-e9b2-0f3bd42cea4f"
      },
      "execution_count": 51,
      "outputs": [
        {
          "output_type": "stream",
          "name": "stdout",
          "text": [
            "{'x1': 'Adriana', 'x2': 'Gonzalez'} <class 'dict'>\n",
            "{'x1': 'Adriana', 'x2': 'Gonzalez', 'x3': 'Montanez'}\n",
            "{'x1': 'Adriana', 'x2': 'Gonzalez'}\n"
          ]
        }
      ]
    },
    {
      "cell_type": "code",
      "source": [
        "## Sort dictionary\n",
        "location_dict = {'Charlotte': 'NC', 'Austin': 'TX', 'New York': 'NY', 'Los Angeles': 'CA'}\n",
        "sorted_dict = dict(sorted(location_dict.items()))\n",
        "\n",
        "print(sorted_dict)"
      ],
      "metadata": {
        "colab": {
          "base_uri": "https://localhost:8080/"
        },
        "id": "D-uV1iPRKugi",
        "outputId": "3b8dca5f-e2f8-409a-bc6f-0367baeb6875"
      },
      "execution_count": 57,
      "outputs": [
        {
          "output_type": "stream",
          "name": "stdout",
          "text": [
            "{'Austin': 'TX', 'Charlotte': 'NC', 'Los Angeles': 'CA', 'New York': 'NY'}\n"
          ]
        }
      ]
    },
    {
      "cell_type": "code",
      "source": [
        "location_dict = {'Charlotte': 'NC', 'Austin': 'TX', 'New York': 'NY', 'Los Angeles': 'CA'}\n",
        "sorted_dict = dict(sorted(location_dict.items(),reverse=True))\n",
        "\n",
        "print(sorted_dict)"
      ],
      "metadata": {
        "colab": {
          "base_uri": "https://localhost:8080/"
        },
        "id": "hNeccw9SMwzZ",
        "outputId": "be4a9fd9-e6ea-46a5-da50-96ffb1196287"
      },
      "execution_count": 65,
      "outputs": [
        {
          "output_type": "stream",
          "name": "stdout",
          "text": [
            "{'New York': 'NY', 'Los Angeles': 'CA', 'Charlotte': 'NC', 'Austin': 'TX'}\n"
          ]
        }
      ]
    },
    {
      "cell_type": "markdown",
      "source": [
        "# Set"
      ],
      "metadata": {
        "id": "H5XZPaNWNzF4"
      }
    },
    {
      "cell_type": "code",
      "source": [
        "# TODO\n",
        "# create a set\n",
        "my_set = set()\n",
        "print(my_set, type(my_set), '\\n')"
      ],
      "metadata": {
        "colab": {
          "base_uri": "https://localhost:8080/"
        },
        "id": "jXQQmr9hN05S",
        "outputId": "099053fc-f8fe-4c46-870e-67836464a0cc"
      },
      "execution_count": 67,
      "outputs": [
        {
          "output_type": "stream",
          "name": "stdout",
          "text": [
            "set() <class 'set'> \n",
            "\n"
          ]
        }
      ]
    },
    {
      "cell_type": "code",
      "source": [
        "# create a set with values\n",
        "my_set = {\"adriana\", \"gonzalez\", \"montanez\"}\n",
        "print(my_set, type(my_set), '\\n')"
      ],
      "metadata": {
        "colab": {
          "base_uri": "https://localhost:8080/"
        },
        "id": "j2Os_dMmOFcq",
        "outputId": "c20c752e-b42e-47aa-fe83-598ae3730ab2"
      },
      "execution_count": 68,
      "outputs": [
        {
          "output_type": "stream",
          "name": "stdout",
          "text": [
            "{'montanez', 'gonzalez', 'adriana'} <class 'set'> \n",
            "\n"
          ]
        }
      ]
    },
    {
      "cell_type": "code",
      "source": [
        "# add a new value to my_set\n",
        "# the value should be a different\n",
        "my_set.add(6)\n",
        "print(my_set, '\\n')\n",
        "\n",
        "my_set.remove(6)\n",
        "print(my_set, '\\n')"
      ],
      "metadata": {
        "colab": {
          "base_uri": "https://localhost:8080/"
        },
        "id": "gyQo_23HOyE0",
        "outputId": "284250af-0097-4971-cb7b-8e8811b44427"
      },
      "execution_count": 79,
      "outputs": [
        {
          "output_type": "stream",
          "name": "stdout",
          "text": [
            "{6, 'gonzalez', 'montanez', 'adriana'} \n",
            "\n",
            "{'gonzalez', 'montanez', 'adriana'} \n",
            "\n"
          ]
        }
      ]
    },
    {
      "cell_type": "code",
      "source": [
        "## set manipulation\n",
        "\n",
        "## Use a list with duplicated values and a tuple to create two sets respectively, and get a union set between those two.\n",
        "\n",
        "my_list = ['adriana', 'adriana', 'gonzalez', 'montanez']\n",
        "my_tuple = (1,2,3,4)\n",
        "\n",
        "set1 = set(my_list)\n",
        "set2 = set(my_tuple)\n",
        "set3 = set1 | set2\n",
        "\n",
        "print (set1, type(set1))\n",
        "print (set2, type(set2))\n",
        "print (set3, type(set3))"
      ],
      "metadata": {
        "colab": {
          "base_uri": "https://localhost:8080/"
        },
        "id": "8HJo4msdPYoW",
        "outputId": "3b94be83-9ddc-41c6-9452-8cd31910a3b8"
      },
      "execution_count": 100,
      "outputs": [
        {
          "output_type": "stream",
          "name": "stdout",
          "text": [
            "{'montanez', 'gonzalez', 'adriana'} <class 'set'>\n",
            "{1, 2, 3, 4} <class 'set'>\n",
            "{1, 2, 'gonzalez', 3, 4, 'montanez', 'adriana'} <class 'set'>\n"
          ]
        }
      ]
    },
    {
      "cell_type": "code",
      "source": [
        "## Create two sets my_set1 and my_set2, and get values in my_set1 but not in my_set2.\n",
        "\n",
        "my_set1 = {1, 2, 3, 4, 5}\n",
        "my_set2 = {4, 5, 6, 7, 8}\n",
        "\n",
        "result = my_set1 - my_set2\n",
        "\n",
        "print(result)"
      ],
      "metadata": {
        "colab": {
          "base_uri": "https://localhost:8080/"
        },
        "id": "wwoQJ8xuRupb",
        "outputId": "90f27363-8f6a-4351-818f-d8fbc5746877"
      },
      "execution_count": 99,
      "outputs": [
        {
          "output_type": "stream",
          "name": "stdout",
          "text": [
            "{1, 2, 3}\n"
          ]
        }
      ]
    },
    {
      "cell_type": "markdown",
      "source": [
        "# DataFrames"
      ],
      "metadata": {
        "id": "F-3DzoAGSr52"
      }
    },
    {
      "cell_type": "code",
      "source": [
        "import pandas as pd\n",
        "url = 'https://archive.ics.uci.edu/ml/machine-learning-databases/wine-quality/winequality-red.csv'\n",
        "\n",
        "# Download the CSV from the above url.\n",
        "# This csv is separated by a ';' so we need to add that as a parameter to the read_csv method.\n",
        "df = pd.read_csv(url, sep=';')"
      ],
      "metadata": {
        "id": "hvbncyhFSuW-"
      },
      "execution_count": 101,
      "outputs": []
    },
    {
      "cell_type": "code",
      "source": [
        " ## Show the first 6 rows of the df dataframe\n",
        " df. head(6)"
      ],
      "metadata": {
        "colab": {
          "base_uri": "https://localhost:8080/",
          "height": 238
        },
        "id": "kWwWIjf9S6Iv",
        "outputId": "5daa99ba-0d1d-444b-a05d-b602a0e0fdf4"
      },
      "execution_count": 103,
      "outputs": [
        {
          "output_type": "execute_result",
          "data": {
            "text/plain": [
              "   fixed acidity  volatile acidity  citric acid  residual sugar  chlorides  \\\n",
              "0            7.4              0.70         0.00             1.9      0.076   \n",
              "1            7.8              0.88         0.00             2.6      0.098   \n",
              "2            7.8              0.76         0.04             2.3      0.092   \n",
              "3           11.2              0.28         0.56             1.9      0.075   \n",
              "4            7.4              0.70         0.00             1.9      0.076   \n",
              "5            7.4              0.66         0.00             1.8      0.075   \n",
              "\n",
              "   free sulfur dioxide  total sulfur dioxide  density    pH  sulphates  \\\n",
              "0                 11.0                  34.0   0.9978  3.51       0.56   \n",
              "1                 25.0                  67.0   0.9968  3.20       0.68   \n",
              "2                 15.0                  54.0   0.9970  3.26       0.65   \n",
              "3                 17.0                  60.0   0.9980  3.16       0.58   \n",
              "4                 11.0                  34.0   0.9978  3.51       0.56   \n",
              "5                 13.0                  40.0   0.9978  3.51       0.56   \n",
              "\n",
              "   alcohol  quality  \n",
              "0      9.4        5  \n",
              "1      9.8        5  \n",
              "2      9.8        5  \n",
              "3      9.8        6  \n",
              "4      9.4        5  \n",
              "5      9.4        5  "
            ],
            "text/html": [
              "\n",
              "  <div id=\"df-dfa8ae93-0e24-411d-a886-774850070030\" class=\"colab-df-container\">\n",
              "    <div>\n",
              "<style scoped>\n",
              "    .dataframe tbody tr th:only-of-type {\n",
              "        vertical-align: middle;\n",
              "    }\n",
              "\n",
              "    .dataframe tbody tr th {\n",
              "        vertical-align: top;\n",
              "    }\n",
              "\n",
              "    .dataframe thead th {\n",
              "        text-align: right;\n",
              "    }\n",
              "</style>\n",
              "<table border=\"1\" class=\"dataframe\">\n",
              "  <thead>\n",
              "    <tr style=\"text-align: right;\">\n",
              "      <th></th>\n",
              "      <th>fixed acidity</th>\n",
              "      <th>volatile acidity</th>\n",
              "      <th>citric acid</th>\n",
              "      <th>residual sugar</th>\n",
              "      <th>chlorides</th>\n",
              "      <th>free sulfur dioxide</th>\n",
              "      <th>total sulfur dioxide</th>\n",
              "      <th>density</th>\n",
              "      <th>pH</th>\n",
              "      <th>sulphates</th>\n",
              "      <th>alcohol</th>\n",
              "      <th>quality</th>\n",
              "    </tr>\n",
              "  </thead>\n",
              "  <tbody>\n",
              "    <tr>\n",
              "      <th>0</th>\n",
              "      <td>7.4</td>\n",
              "      <td>0.70</td>\n",
              "      <td>0.00</td>\n",
              "      <td>1.9</td>\n",
              "      <td>0.076</td>\n",
              "      <td>11.0</td>\n",
              "      <td>34.0</td>\n",
              "      <td>0.9978</td>\n",
              "      <td>3.51</td>\n",
              "      <td>0.56</td>\n",
              "      <td>9.4</td>\n",
              "      <td>5</td>\n",
              "    </tr>\n",
              "    <tr>\n",
              "      <th>1</th>\n",
              "      <td>7.8</td>\n",
              "      <td>0.88</td>\n",
              "      <td>0.00</td>\n",
              "      <td>2.6</td>\n",
              "      <td>0.098</td>\n",
              "      <td>25.0</td>\n",
              "      <td>67.0</td>\n",
              "      <td>0.9968</td>\n",
              "      <td>3.20</td>\n",
              "      <td>0.68</td>\n",
              "      <td>9.8</td>\n",
              "      <td>5</td>\n",
              "    </tr>\n",
              "    <tr>\n",
              "      <th>2</th>\n",
              "      <td>7.8</td>\n",
              "      <td>0.76</td>\n",
              "      <td>0.04</td>\n",
              "      <td>2.3</td>\n",
              "      <td>0.092</td>\n",
              "      <td>15.0</td>\n",
              "      <td>54.0</td>\n",
              "      <td>0.9970</td>\n",
              "      <td>3.26</td>\n",
              "      <td>0.65</td>\n",
              "      <td>9.8</td>\n",
              "      <td>5</td>\n",
              "    </tr>\n",
              "    <tr>\n",
              "      <th>3</th>\n",
              "      <td>11.2</td>\n",
              "      <td>0.28</td>\n",
              "      <td>0.56</td>\n",
              "      <td>1.9</td>\n",
              "      <td>0.075</td>\n",
              "      <td>17.0</td>\n",
              "      <td>60.0</td>\n",
              "      <td>0.9980</td>\n",
              "      <td>3.16</td>\n",
              "      <td>0.58</td>\n",
              "      <td>9.8</td>\n",
              "      <td>6</td>\n",
              "    </tr>\n",
              "    <tr>\n",
              "      <th>4</th>\n",
              "      <td>7.4</td>\n",
              "      <td>0.70</td>\n",
              "      <td>0.00</td>\n",
              "      <td>1.9</td>\n",
              "      <td>0.076</td>\n",
              "      <td>11.0</td>\n",
              "      <td>34.0</td>\n",
              "      <td>0.9978</td>\n",
              "      <td>3.51</td>\n",
              "      <td>0.56</td>\n",
              "      <td>9.4</td>\n",
              "      <td>5</td>\n",
              "    </tr>\n",
              "    <tr>\n",
              "      <th>5</th>\n",
              "      <td>7.4</td>\n",
              "      <td>0.66</td>\n",
              "      <td>0.00</td>\n",
              "      <td>1.8</td>\n",
              "      <td>0.075</td>\n",
              "      <td>13.0</td>\n",
              "      <td>40.0</td>\n",
              "      <td>0.9978</td>\n",
              "      <td>3.51</td>\n",
              "      <td>0.56</td>\n",
              "      <td>9.4</td>\n",
              "      <td>5</td>\n",
              "    </tr>\n",
              "  </tbody>\n",
              "</table>\n",
              "</div>\n",
              "    <div class=\"colab-df-buttons\">\n",
              "\n",
              "  <div class=\"colab-df-container\">\n",
              "    <button class=\"colab-df-convert\" onclick=\"convertToInteractive('df-dfa8ae93-0e24-411d-a886-774850070030')\"\n",
              "            title=\"Convert this dataframe to an interactive table.\"\n",
              "            style=\"display:none;\">\n",
              "\n",
              "  <svg xmlns=\"http://www.w3.org/2000/svg\" height=\"24px\" viewBox=\"0 -960 960 960\">\n",
              "    <path d=\"M120-120v-720h720v720H120Zm60-500h600v-160H180v160Zm220 220h160v-160H400v160Zm0 220h160v-160H400v160ZM180-400h160v-160H180v160Zm440 0h160v-160H620v160ZM180-180h160v-160H180v160Zm440 0h160v-160H620v160Z\"/>\n",
              "  </svg>\n",
              "    </button>\n",
              "\n",
              "  <style>\n",
              "    .colab-df-container {\n",
              "      display:flex;\n",
              "      gap: 12px;\n",
              "    }\n",
              "\n",
              "    .colab-df-convert {\n",
              "      background-color: #E8F0FE;\n",
              "      border: none;\n",
              "      border-radius: 50%;\n",
              "      cursor: pointer;\n",
              "      display: none;\n",
              "      fill: #1967D2;\n",
              "      height: 32px;\n",
              "      padding: 0 0 0 0;\n",
              "      width: 32px;\n",
              "    }\n",
              "\n",
              "    .colab-df-convert:hover {\n",
              "      background-color: #E2EBFA;\n",
              "      box-shadow: 0px 1px 2px rgba(60, 64, 67, 0.3), 0px 1px 3px 1px rgba(60, 64, 67, 0.15);\n",
              "      fill: #174EA6;\n",
              "    }\n",
              "\n",
              "    .colab-df-buttons div {\n",
              "      margin-bottom: 4px;\n",
              "    }\n",
              "\n",
              "    [theme=dark] .colab-df-convert {\n",
              "      background-color: #3B4455;\n",
              "      fill: #D2E3FC;\n",
              "    }\n",
              "\n",
              "    [theme=dark] .colab-df-convert:hover {\n",
              "      background-color: #434B5C;\n",
              "      box-shadow: 0px 1px 3px 1px rgba(0, 0, 0, 0.15);\n",
              "      filter: drop-shadow(0px 1px 2px rgba(0, 0, 0, 0.3));\n",
              "      fill: #FFFFFF;\n",
              "    }\n",
              "  </style>\n",
              "\n",
              "    <script>\n",
              "      const buttonEl =\n",
              "        document.querySelector('#df-dfa8ae93-0e24-411d-a886-774850070030 button.colab-df-convert');\n",
              "      buttonEl.style.display =\n",
              "        google.colab.kernel.accessAllowed ? 'block' : 'none';\n",
              "\n",
              "      async function convertToInteractive(key) {\n",
              "        const element = document.querySelector('#df-dfa8ae93-0e24-411d-a886-774850070030');\n",
              "        const dataTable =\n",
              "          await google.colab.kernel.invokeFunction('convertToInteractive',\n",
              "                                                    [key], {});\n",
              "        if (!dataTable) return;\n",
              "\n",
              "        const docLinkHtml = 'Like what you see? Visit the ' +\n",
              "          '<a target=\"_blank\" href=https://colab.research.google.com/notebooks/data_table.ipynb>data table notebook</a>'\n",
              "          + ' to learn more about interactive tables.';\n",
              "        element.innerHTML = '';\n",
              "        dataTable['output_type'] = 'display_data';\n",
              "        await google.colab.output.renderOutput(dataTable, element);\n",
              "        const docLink = document.createElement('div');\n",
              "        docLink.innerHTML = docLinkHtml;\n",
              "        element.appendChild(docLink);\n",
              "      }\n",
              "    </script>\n",
              "  </div>\n",
              "\n",
              "\n",
              "<div id=\"df-cb78f7dc-65e8-4edd-bc59-d29e16fa03a6\">\n",
              "  <button class=\"colab-df-quickchart\" onclick=\"quickchart('df-cb78f7dc-65e8-4edd-bc59-d29e16fa03a6')\"\n",
              "            title=\"Suggest charts.\"\n",
              "            style=\"display:none;\">\n",
              "\n",
              "<svg xmlns=\"http://www.w3.org/2000/svg\" height=\"24px\"viewBox=\"0 0 24 24\"\n",
              "     width=\"24px\">\n",
              "    <g>\n",
              "        <path d=\"M19 3H5c-1.1 0-2 .9-2 2v14c0 1.1.9 2 2 2h14c1.1 0 2-.9 2-2V5c0-1.1-.9-2-2-2zM9 17H7v-7h2v7zm4 0h-2V7h2v10zm4 0h-2v-4h2v4z\"/>\n",
              "    </g>\n",
              "</svg>\n",
              "  </button>\n",
              "\n",
              "<style>\n",
              "  .colab-df-quickchart {\n",
              "    background-color: #E8F0FE;\n",
              "    border: none;\n",
              "    border-radius: 50%;\n",
              "    cursor: pointer;\n",
              "    display: none;\n",
              "    fill: #1967D2;\n",
              "    height: 32px;\n",
              "    padding: 0 0 0 0;\n",
              "    width: 32px;\n",
              "  }\n",
              "\n",
              "  .colab-df-quickchart:hover {\n",
              "    background-color: #E2EBFA;\n",
              "    box-shadow: 0px 1px 2px rgba(60, 64, 67, 0.3), 0px 1px 3px 1px rgba(60, 64, 67, 0.15);\n",
              "    fill: #174EA6;\n",
              "  }\n",
              "\n",
              "  [theme=dark] .colab-df-quickchart {\n",
              "    background-color: #3B4455;\n",
              "    fill: #D2E3FC;\n",
              "  }\n",
              "\n",
              "  [theme=dark] .colab-df-quickchart:hover {\n",
              "    background-color: #434B5C;\n",
              "    box-shadow: 0px 1px 3px 1px rgba(0, 0, 0, 0.15);\n",
              "    filter: drop-shadow(0px 1px 2px rgba(0, 0, 0, 0.3));\n",
              "    fill: #FFFFFF;\n",
              "  }\n",
              "</style>\n",
              "\n",
              "  <script>\n",
              "    async function quickchart(key) {\n",
              "      const charts = await google.colab.kernel.invokeFunction(\n",
              "          'suggestCharts', [key], {});\n",
              "    }\n",
              "    (() => {\n",
              "      let quickchartButtonEl =\n",
              "        document.querySelector('#df-cb78f7dc-65e8-4edd-bc59-d29e16fa03a6 button');\n",
              "      quickchartButtonEl.style.display =\n",
              "        google.colab.kernel.accessAllowed ? 'block' : 'none';\n",
              "    })();\n",
              "  </script>\n",
              "</div>\n",
              "    </div>\n",
              "  </div>\n"
            ]
          },
          "metadata": {},
          "execution_count": 103
        }
      ]
    },
    {
      "cell_type": "code",
      "source": [
        "## Print out the summary statistics for each dataframe column\n",
        "print(df.describe())"
      ],
      "metadata": {
        "colab": {
          "base_uri": "https://localhost:8080/"
        },
        "id": "__Jr5gedTCYG",
        "outputId": "878c964c-dbf2-474e-8371-6c23e7cfebe0"
      },
      "execution_count": 105,
      "outputs": [
        {
          "output_type": "stream",
          "name": "stdout",
          "text": [
            "       fixed acidity  volatile acidity  citric acid  residual sugar  \\\n",
            "count    1599.000000       1599.000000  1599.000000     1599.000000   \n",
            "mean        8.319637          0.527821     0.270976        2.538806   \n",
            "std         1.741096          0.179060     0.194801        1.409928   \n",
            "min         4.600000          0.120000     0.000000        0.900000   \n",
            "25%         7.100000          0.390000     0.090000        1.900000   \n",
            "50%         7.900000          0.520000     0.260000        2.200000   \n",
            "75%         9.200000          0.640000     0.420000        2.600000   \n",
            "max        15.900000          1.580000     1.000000       15.500000   \n",
            "\n",
            "         chlorides  free sulfur dioxide  total sulfur dioxide      density  \\\n",
            "count  1599.000000          1599.000000           1599.000000  1599.000000   \n",
            "mean      0.087467            15.874922             46.467792     0.996747   \n",
            "std       0.047065            10.460157             32.895324     0.001887   \n",
            "min       0.012000             1.000000              6.000000     0.990070   \n",
            "25%       0.070000             7.000000             22.000000     0.995600   \n",
            "50%       0.079000            14.000000             38.000000     0.996750   \n",
            "75%       0.090000            21.000000             62.000000     0.997835   \n",
            "max       0.611000            72.000000            289.000000     1.003690   \n",
            "\n",
            "                pH    sulphates      alcohol      quality  \n",
            "count  1599.000000  1599.000000  1599.000000  1599.000000  \n",
            "mean      3.311113     0.658149    10.422983     5.636023  \n",
            "std       0.154386     0.169507     1.065668     0.807569  \n",
            "min       2.740000     0.330000     8.400000     3.000000  \n",
            "25%       3.210000     0.550000     9.500000     5.000000  \n",
            "50%       3.310000     0.620000    10.200000     6.000000  \n",
            "75%       3.400000     0.730000    11.100000     6.000000  \n",
            "max       4.010000     2.000000    14.900000     8.000000  \n"
          ]
        }
      ]
    }
  ]
}